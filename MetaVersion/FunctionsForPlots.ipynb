{
 "cells": [
  {
   "cell_type": "code",
   "execution_count": null,
   "metadata": {},
   "outputs": [],
   "source": [
    "using Plots,"
   ]
  },
  {
   "cell_type": "code",
   "execution_count": null,
   "metadata": {},
   "outputs": [],
   "source": [
    "function generate_DOS(File::String,n,FE)\n",
    "    TotalDOS::Matrix{<:Real}=readdlm(File,skipstart=3)\n",
    "    return get_interpolate(TotalDOS[:,1].+FE,TotalDOS[:,2].*n)\n",
    "end\n",
    "\n",
    "function athemexcitation(ftot::Expr,laser::Expr)\n",
    "    Δfneqe,Δfneqh = athem_neqelectronandhole(ftot::Expr)\n",
    "    pc_sf = :(athem_particleconservation(mp.DOS,$Δfneqe,$Δfneqh,mp.egrid,μ))\n",
    "    Δfneqtot = Expr(:call,:.-,Expr(:call,:*,pc_sf,Δfneqe),Δfneqh)\n",
    "    #= δ = :($laser/athem_excitation_internalenergy($Δfneqtot,mp.DOS,mp.egrid,μ))\n",
    "    return Expr(:call,:*,δ,Δfneqtot) =#\n",
    "    return Δfneqtot\n",
    "end\n",
    "\n",
    "function ettmexcitation(Tel,)"
   ]
  }
 ],
 "metadata": {
  "kernelspec": {
   "display_name": "Julia 1.10.3",
   "language": "julia",
   "name": "julia-1.10"
  },
  "language_info": {
   "file_extension": ".jl",
   "mimetype": "application/julia",
   "name": "julia",
   "version": "1.10.3"
  }
 },
 "nbformat": 4,
 "nbformat_minor": 2
}
