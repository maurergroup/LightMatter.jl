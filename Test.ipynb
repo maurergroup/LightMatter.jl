{
 "cells": [
  {
   "cell_type": "code",
   "execution_count": 117,
   "metadata": {},
   "outputs": [],
   "source": [
    "using ModelingToolkit,DifferentialEquations,Plots\n",
    "using ModelingToolkit: t_nounits as t, D_nounits as D "
   ]
  },
  {
   "cell_type": "code",
   "execution_count": 106,
   "metadata": {},
   "outputs": [
    {
     "data": {
      "text/plain": [
       "Rectangular"
      ]
     },
     "metadata": {},
     "output_type": "display_data"
    }
   ],
   "source": [
    "abstract type Laser end\n",
    "@kwdef struct Gaussian <: Laser \n",
    "    FWHM::Real\n",
    "    Offset::Real\n",
    "    Power::Real\n",
    "    hv::Real\n",
    "    spatial::Array{Float64}\n",
    "    R::Real\n",
    "end\n",
    "@kwdef struct Rectangular <: Laser    \n",
    "    FWHM::Real\n",
    "    Offset::Real\n",
    "    Power::Real\n",
    "    hv::Real\n",
    "    spatial::Array{Float64}\n",
    "    R::Real\n",
    "end"
   ]
  },
  {
   "cell_type": "code",
   "execution_count": 107,
   "metadata": {},
   "outputs": [],
   "source": [
    "function (::Gaussian)(;name)\n",
    "    @parameters FWHM  Offset\n",
    "    @variables tp(t)\n",
    "    \n",
    "    eqs = [tp ~ sqrt(4*log(2)/pi)/FWHM*exp(-4*log(2)*(t-(2*FWHM)-Offset)^2/FWHM^2)]\n",
    "    \n",
    "    ODESystem(eqs,t;name)\n",
    "end"
   ]
  },
  {
   "cell_type": "code",
   "execution_count": 108,
   "metadata": {},
   "outputs": [
    {
     "data": {
      "text/plain": [
       "tester (generic function with 1 method)"
      ]
     },
     "metadata": {},
     "output_type": "display_data"
    }
   ],
   "source": [
    "function tester(;name)\n",
    "    @variables S(t) T(t)\n",
    "    eqs = [D(T) ~ S]\n",
    "\n",
    "    ODESystem(eqs,t;name)\n",
    "end"
   ]
  },
  {
   "cell_type": "code",
   "execution_count": 109,
   "metadata": {},
   "outputs": [
    {
     "data": {
      "text/latex": [
       "$$ \\begin{align}\n",
       "\\frac{\\mathrm{d} T\\left( t \\right)}{\\mathrm{d}t} =& S\\left( t \\right)\n",
       "\\end{align}\n",
       " $$"
      ],
      "text/plain": [
       "\u001b[0m\u001b[1mModel testconnector with 1 \u001b[22m\u001b[0m\u001b[1mequations\u001b[22m\n",
       "\u001b[0m\u001b[1mUnknowns (2):\u001b[22m\n",
       "  T(t)\n",
       "  S(t)\n",
       "\u001b[0m\u001b[1mParameters (0):\u001b[22m"
      ]
     },
     "metadata": {},
     "output_type": "display_data"
    }
   ],
   "source": [
    "lp=Gaussian(FWHM=100,Offset=300,Power=62,hv=1.55,spatial=[0],R=0.0)\n",
    "@named gauss_laser=lp()\n",
    "@named testconnector=tester()"
   ]
  },
  {
   "cell_type": "code",
   "execution_count": 110,
   "metadata": {},
   "outputs": [
    {
     "data": {
      "text/latex": [
       "$$ \\begin{align}\n",
       "testconnector_{+}S\\left( t \\right) =& \\mathrm{gauss}_{laser_{+}tp}\\left( t \\right) \\\\\n",
       "\\mathrm{gauss}_{laser_{+}tp}\\left( t \\right) =& \\frac{0.93944 e^{\\frac{ - 2.7726 \\left(  - 2 gauss_{laser_{+}FWHM} - gauss_{laser_{+}Offset} + t \\right)^{2}}{gauss_{laser_{+}FWHM}^{2}}}}{gauss_{laser_{+}FWHM}} \\\\\n",
       "\\frac{\\mathrm{d} testconnector_{+}T\\left( t \\right)}{\\mathrm{d}t} =& testconnector_{+}S\\left( t \\right)\n",
       "\\end{align}\n",
       " $$"
      ],
      "text/plain": [
       "\u001b[0m\u001b[1mModel connected with 3 \u001b[22m\u001b[0m\u001b[1mequations\u001b[22m\n",
       "\u001b[0m\u001b[1mUnknowns (3):\u001b[22m\n",
       "  testconnector₊S(t)\n",
       "  gauss_laser₊tp(t)\n",
       "  testconnector₊T(t)\n",
       "\u001b[0m\u001b[1mParameters (2):\u001b[22m\n",
       "  gauss_laser₊FWHM\n",
       "  gauss_laser₊Offset"
      ]
     },
     "metadata": {},
     "output_type": "display_data"
    }
   ],
   "source": [
    "connections = [testconnector.S ~ gauss_laser.tp]\n",
    "connected = compose(ODESystem(connections,t,name = :connected),gauss_laser,testconnector)"
   ]
  },
  {
   "cell_type": "code",
   "execution_count": 111,
   "metadata": {},
   "outputs": [
    {
     "data": {
      "text/latex": [
       "$$ \\begin{align}\n",
       "\\frac{\\mathrm{d} testconnector_{+}T\\left( t \\right)}{\\mathrm{d}t} =& testconnector_{+}S\\left( t \\right)\n",
       "\\end{align}\n",
       " $$"
      ],
      "text/plain": [
       "\u001b[0m\u001b[1mModel connected with 1 \u001b[22m\u001b[0m\u001b[1mequations\u001b[22m\n",
       "\u001b[0m\u001b[1mUnknowns (1):\u001b[22m\n",
       "  testconnector₊T(t)\n",
       "\u001b[0m\u001b[1mParameters (2):\u001b[22m\n",
       "  gauss_laser₊FWHM\n",
       "  gauss_laser₊Offset\n",
       "\u001b[35mIncidence matrix:\u001b[39m1×2 SparseArrays.SparseMatrixCSC{Num, Int64} with 1 stored entry:\n",
       " ⋅  ×"
      ]
     },
     "metadata": {},
     "output_type": "display_data"
    }
   ],
   "source": [
    "connected_simp=structural_simplify(connected)"
   ]
  },
  {
   "cell_type": "code",
   "execution_count": 114,
   "metadata": {},
   "outputs": [
    {
     "data": {
      "text/plain": [
       "2-element Vector{Pair{Num, Float64}}:\n",
       "  gauss_laser₊tp(t) => 0.0\n",
       " testconnector₊T(t) => 0.0"
      ]
     },
     "metadata": {},
     "output_type": "display_data"
    }
   ],
   "source": [
    "u0=[gauss_laser.tp => 0.0, \n",
    "   testconnector.T => 0.0]"
   ]
  },
  {
   "cell_type": "code",
   "execution_count": 115,
   "metadata": {},
   "outputs": [
    {
     "data": {
      "text/plain": [
       "2-element Vector{Pair{Num, Int64}}:\n",
       "   gauss_laser₊FWHM => 100\n",
       " gauss_laser₊Offset => 300"
      ]
     },
     "metadata": {},
     "output_type": "display_data"
    }
   ],
   "source": [
    "p=[gauss_laser.FWHM => lp.FWHM,\n",
    "   gauss_laser.Offset => lp.Offset]"
   ]
  },
  {
   "cell_type": "code",
   "execution_count": 118,
   "metadata": {},
   "outputs": [
    {
     "data": {
      "text/plain": [
       "\u001b[38;2;86;182;194mODEProblem\u001b[0m with uType \u001b[38;2;86;182;194mVector{Float64}\u001b[0m and tType \u001b[38;2;86;182;194mFloat64\u001b[0m. In-place: \u001b[38;2;86;182;194mtrue\u001b[0m\n",
       "timespan: (0.0, 500.0)\n",
       "u0: 1-element Vector{Float64}:\n",
       " 0.0"
      ]
     },
     "metadata": {},
     "output_type": "display_data"
    }
   ],
   "source": [
    "prob=ODEProblem(connected_simp,u0,(0.0,500.0),p)"
   ]
  },
  {
   "cell_type": "code",
   "execution_count": 119,
   "metadata": {},
   "outputs": [],
   "source": [
    "plot(solve(prob))"
   ]
  },
  {
   "cell_type": "code",
   "execution_count": 82,
   "metadata": {},
   "outputs": [
    {
     "data": {
      "text/plain": [
       "test_eq (generic function with 1 method)"
      ]
     },
     "metadata": {},
     "output_type": "display_data"
    }
   ],
   "source": [
    "function test_eq(;name)\n",
    "    @parameters a b \n",
    "    @variables y(t)\n",
    "\n",
    "    eqs =  [y ~ a*t + b]\n",
    "\n",
    "    ODESystem(eqs,t;name)\n",
    "end"
   ]
  },
  {
   "cell_type": "code",
   "execution_count": 84,
   "metadata": {},
   "outputs": [
    {
     "data": {
      "text/latex": [
       "$$ \\begin{align}\n",
       "y\\left( t \\right) =& b + a t\n",
       "\\end{align}\n",
       " $$"
      ],
      "text/plain": [
       "\u001b[0m\u001b[1mModel testeq with 1 \u001b[22m\u001b[0m\u001b[1mequations\u001b[22m\n",
       "\u001b[0m\u001b[1mUnknowns (1):\u001b[22m\n",
       "  y(t)\n",
       "\u001b[0m\u001b[1mParameters (2):\u001b[22m\n",
       "  a\n",
       "  b"
      ]
     },
     "metadata": {},
     "output_type": "display_data"
    }
   ],
   "source": [
    "@named testeq=test_eq()"
   ]
  },
  {
   "cell_type": "code",
   "execution_count": 85,
   "metadata": {},
   "outputs": [
    {
     "data": {
      "text/latex": [
       "$$ \\begin{align}\n",
       "\\end{align}\n",
       " $$"
      ],
      "text/plain": [
       "\u001b[0m\u001b[1mModel testeq with 0 \u001b[22m\u001b[0m\u001b[1mequations\u001b[22m\n",
       "\u001b[0m\u001b[1mUnknowns (0):\u001b[22m\n",
       "\u001b[0m\u001b[1mParameters (2):\u001b[22m\n",
       "  a\n",
       "  b\n",
       "\u001b[35mIncidence matrix:\u001b[39m0×0 SparseArrays.SparseMatrixCSC{Num, Int64} with 0 stored entries"
      ]
     },
     "metadata": {},
     "output_type": "display_data"
    }
   ],
   "source": [
    "testsimp=structural_simplify(testeq)"
   ]
  }
 ],
 "metadata": {
  "kernelspec": {
   "display_name": "Julia 1.10.3",
   "language": "julia",
   "name": "julia-1.10"
  },
  "language_info": {
   "file_extension": ".jl",
   "mimetype": "application/julia",
   "name": "julia",
   "version": "1.10.3"
  }
 },
 "nbformat": 4,
 "nbformat_minor": 2
}
