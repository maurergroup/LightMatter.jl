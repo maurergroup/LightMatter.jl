{
 "cells": [
  {
   "cell_type": "code",
   "execution_count": 1,
   "metadata": {},
   "outputs": [],
   "source": [
    "abstract type Test_Type end"
   ]
  },
  {
   "cell_type": "code",
   "execution_count": 2,
   "metadata": {},
   "outputs": [],
   "source": [
    "struct a <: Test_Type\n",
    "    var1\n",
    "    var2\n",
    "end\n",
    "\n",
    "struct b <: Test_Type\n",
    "    var1\n",
    "    var2\n",
    "end\n",
    "\n",
    "struct c <: Test_Type\n",
    "    var1\n",
    "    var2\n",
    "end"
   ]
  },
  {
   "cell_type": "code",
   "execution_count": 3,
   "metadata": {},
   "outputs": [
    {
     "data": {
      "text/plain": [
       "struct_former (generic function with 1 method)"
      ]
     },
     "metadata": {},
     "output_type": "display_data"
    }
   ],
   "source": [
    "function struct_former(decider::Test_Type,var1,var2)\n",
    "    return @eval a(var1,var2)\n",
    "end"
   ]
  },
  {
   "cell_type": "code",
   "execution_count": 4,
   "metadata": {},
   "outputs": [
    {
     "ename": "MethodError",
     "evalue": "MethodError: no method matching struct_former(::Type{a}, ::Int64, ::Int64)\n\nClosest candidates are:\n  struct_former(!Matched::Test_Type, ::Any, ::Any)\n   @ Main c:\\Users\\u5522838\\OneDrive\\PhD\\LightMatter.jl\\Test.ipynb:1\n",
     "output_type": "error",
     "traceback": [
      "MethodError: no method matching struct_former(::Type{a}, ::Int64, ::Int64)\n",
      "\n",
      "Closest candidates are:\n",
      "  struct_former(!Matched::Test_Type, ::Any, ::Any)\n",
      "   @ Main c:\\Users\\u5522838\\OneDrive\\PhD\\LightMatter.jl\\Test.ipynb:1\n",
      "\n",
      "\n",
      "Stacktrace:\n",
      " [1] top-level scope\n",
      "   @ c:\\Users\\u5522838\\OneDrive\\PhD\\LightMatter.jl\\Test.ipynb:1"
     ]
    }
   ],
   "source": [
    "struct_former(a,1,2)"
   ]
  }
 ],
 "metadata": {
  "kernelspec": {
   "display_name": "Julia 1.10.3",
   "language": "julia",
   "name": "julia-1.10"
  },
  "language_info": {
   "file_extension": ".jl",
   "mimetype": "application/julia",
   "name": "julia",
   "version": "1.10.3"
  }
 },
 "nbformat": 4,
 "nbformat_minor": 2
}
